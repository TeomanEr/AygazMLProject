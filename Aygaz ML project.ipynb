{
 "cells": [
  {
   "cell_type": "code",
   "execution_count": 1,
   "id": "7b8b7bf8",
   "metadata": {
    "_cell_guid": "b1076dfc-b9ad-4769-8c92-a6c4dae69d19",
    "_uuid": "8f2839f25d086af736a60e9eeb907d3b93b6e0e5",
    "execution": {
     "iopub.execute_input": "2024-09-16T16:09:33.028713Z",
     "iopub.status.busy": "2024-09-16T16:09:33.028314Z",
     "iopub.status.idle": "2024-09-16T16:09:35.317086Z",
     "shell.execute_reply": "2024-09-16T16:09:35.315975Z"
    },
    "papermill": {
     "duration": 2.304892,
     "end_time": "2024-09-16T16:09:35.319374",
     "exception": false,
     "start_time": "2024-09-16T16:09:33.014482",
     "status": "completed"
    },
    "tags": []
   },
   "outputs": [
    {
     "name": "stdout",
     "output_type": "stream",
     "text": [
      "/kaggle/input/online-payments-fraud-detection-dataset/PS_20174392719_1491204439457_log.csv\n"
     ]
    }
   ],
   "source": [
    "import pandas as pd\n",
    "import numpy as np\n",
    "import seaborn as sns\n",
    "import matplotlib.pyplot as plt\n",
    "from sklearn.model_selection import train_test_split, GridSearchCV\n",
    "from sklearn import preprocessing\n",
    "from sklearn.preprocessing import LabelEncoder\n",
    "from sklearn.metrics import confusion_matrix, accuracy_score, classification_report, precision_score, recall_score, f1_score, silhouette_score, davies_bouldin_score, adjusted_rand_score\n",
    "from sklearn.neighbors import KNeighborsClassifier\n",
    "from sklearn.naive_bayes import GaussianNB\n",
    "from sklearn.tree import DecisionTreeClassifier\n",
    "from sklearn.preprocessing import StandardScaler\n",
    "from sklearn.cluster import KMeans\n",
    "from scipy.stats import mode\n",
    "\n",
    "import os\n",
    "for dirname, _, filenames in os.walk('/kaggle/input'):\n",
    "    for filename in filenames:\n",
    "        print(os.path.join(dirname, filename))"
   ]
  },
  {
   "cell_type": "markdown",
   "id": "71420022",
   "metadata": {
    "papermill": {
     "duration": 0.011116,
     "end_time": "2024-09-16T16:09:35.342165",
     "exception": false,
     "start_time": "2024-09-16T16:09:35.331049",
     "status": "completed"
    },
    "tags": []
   },
   "source": [
    "# * **EDA (KEŞİFÇİ VERİ ANALİZİ)**"
   ]
  },
  {
   "cell_type": "code",
   "execution_count": 2,
   "id": "8b592a70",
   "metadata": {
    "execution": {
     "iopub.execute_input": "2024-09-16T16:09:35.366521Z",
     "iopub.status.busy": "2024-09-16T16:09:35.365967Z",
     "iopub.status.idle": "2024-09-16T16:09:53.255914Z",
     "shell.execute_reply": "2024-09-16T16:09:53.254592Z"
    },
    "papermill": {
     "duration": 17.905198,
     "end_time": "2024-09-16T16:09:53.258683",
     "exception": false,
     "start_time": "2024-09-16T16:09:35.353485",
     "status": "completed"
    },
    "tags": []
   },
   "outputs": [
    {
     "data": {
      "text/html": [
       "<div>\n",
       "<style scoped>\n",
       "    .dataframe tbody tr th:only-of-type {\n",
       "        vertical-align: middle;\n",
       "    }\n",
       "\n",
       "    .dataframe tbody tr th {\n",
       "        vertical-align: top;\n",
       "    }\n",
       "\n",
       "    .dataframe thead th {\n",
       "        text-align: right;\n",
       "    }\n",
       "</style>\n",
       "<table border=\"1\" class=\"dataframe\">\n",
       "  <thead>\n",
       "    <tr style=\"text-align: right;\">\n",
       "      <th></th>\n",
       "      <th>step</th>\n",
       "      <th>type</th>\n",
       "      <th>amount</th>\n",
       "      <th>nameOrig</th>\n",
       "      <th>oldbalanceOrg</th>\n",
       "      <th>newbalanceOrig</th>\n",
       "      <th>nameDest</th>\n",
       "      <th>oldbalanceDest</th>\n",
       "      <th>newbalanceDest</th>\n",
       "      <th>isFraud</th>\n",
       "      <th>isFlaggedFraud</th>\n",
       "    </tr>\n",
       "  </thead>\n",
       "  <tbody>\n",
       "    <tr>\n",
       "      <th>0</th>\n",
       "      <td>1</td>\n",
       "      <td>PAYMENT</td>\n",
       "      <td>9839.64</td>\n",
       "      <td>C1231006815</td>\n",
       "      <td>170136.0</td>\n",
       "      <td>160296.36</td>\n",
       "      <td>M1979787155</td>\n",
       "      <td>0.0</td>\n",
       "      <td>0.0</td>\n",
       "      <td>0</td>\n",
       "      <td>0</td>\n",
       "    </tr>\n",
       "    <tr>\n",
       "      <th>1</th>\n",
       "      <td>1</td>\n",
       "      <td>PAYMENT</td>\n",
       "      <td>1864.28</td>\n",
       "      <td>C1666544295</td>\n",
       "      <td>21249.0</td>\n",
       "      <td>19384.72</td>\n",
       "      <td>M2044282225</td>\n",
       "      <td>0.0</td>\n",
       "      <td>0.0</td>\n",
       "      <td>0</td>\n",
       "      <td>0</td>\n",
       "    </tr>\n",
       "    <tr>\n",
       "      <th>2</th>\n",
       "      <td>1</td>\n",
       "      <td>TRANSFER</td>\n",
       "      <td>181.00</td>\n",
       "      <td>C1305486145</td>\n",
       "      <td>181.0</td>\n",
       "      <td>0.00</td>\n",
       "      <td>C553264065</td>\n",
       "      <td>0.0</td>\n",
       "      <td>0.0</td>\n",
       "      <td>1</td>\n",
       "      <td>0</td>\n",
       "    </tr>\n",
       "    <tr>\n",
       "      <th>3</th>\n",
       "      <td>1</td>\n",
       "      <td>CASH_OUT</td>\n",
       "      <td>181.00</td>\n",
       "      <td>C840083671</td>\n",
       "      <td>181.0</td>\n",
       "      <td>0.00</td>\n",
       "      <td>C38997010</td>\n",
       "      <td>21182.0</td>\n",
       "      <td>0.0</td>\n",
       "      <td>1</td>\n",
       "      <td>0</td>\n",
       "    </tr>\n",
       "    <tr>\n",
       "      <th>4</th>\n",
       "      <td>1</td>\n",
       "      <td>PAYMENT</td>\n",
       "      <td>11668.14</td>\n",
       "      <td>C2048537720</td>\n",
       "      <td>41554.0</td>\n",
       "      <td>29885.86</td>\n",
       "      <td>M1230701703</td>\n",
       "      <td>0.0</td>\n",
       "      <td>0.0</td>\n",
       "      <td>0</td>\n",
       "      <td>0</td>\n",
       "    </tr>\n",
       "  </tbody>\n",
       "</table>\n",
       "</div>"
      ],
      "text/plain": [
       "   step      type    amount     nameOrig  oldbalanceOrg  newbalanceOrig  \\\n",
       "0     1   PAYMENT   9839.64  C1231006815       170136.0       160296.36   \n",
       "1     1   PAYMENT   1864.28  C1666544295        21249.0        19384.72   \n",
       "2     1  TRANSFER    181.00  C1305486145          181.0            0.00   \n",
       "3     1  CASH_OUT    181.00   C840083671          181.0            0.00   \n",
       "4     1   PAYMENT  11668.14  C2048537720        41554.0        29885.86   \n",
       "\n",
       "      nameDest  oldbalanceDest  newbalanceDest  isFraud  isFlaggedFraud  \n",
       "0  M1979787155             0.0             0.0        0               0  \n",
       "1  M2044282225             0.0             0.0        0               0  \n",
       "2   C553264065             0.0             0.0        1               0  \n",
       "3    C38997010         21182.0             0.0        1               0  \n",
       "4  M1230701703             0.0             0.0        0               0  "
      ]
     },
     "execution_count": 2,
     "metadata": {},
     "output_type": "execute_result"
    }
   ],
   "source": [
    "# CSV dosyasını oku ve ilk 5 elemanı göster.\n",
    "df = pd.read_csv(\"/kaggle/input/online-payments-fraud-detection-dataset/PS_20174392719_1491204439457_log.csv\")\n",
    "df.head()\n"
   ]
  },
  {
   "cell_type": "code",
   "execution_count": 3,
   "id": "3bb52e51",
   "metadata": {
    "execution": {
     "iopub.execute_input": "2024-09-16T16:09:53.283913Z",
     "iopub.status.busy": "2024-09-16T16:09:53.283529Z",
     "iopub.status.idle": "2024-09-16T16:09:53.290354Z",
     "shell.execute_reply": "2024-09-16T16:09:53.289142Z"
    },
    "papermill": {
     "duration": 0.021969,
     "end_time": "2024-09-16T16:09:53.292618",
     "exception": false,
     "start_time": "2024-09-16T16:09:53.270649",
     "status": "completed"
    },
    "tags": []
   },
   "outputs": [
    {
     "data": {
      "text/plain": [
       "(6362620, 11)"
      ]
     },
     "execution_count": 3,
     "metadata": {},
     "output_type": "execute_result"
    }
   ],
   "source": [
    "# Verilerin boyutunu kontrol et\n",
    "df.shape"
   ]
  },
  {
   "cell_type": "markdown",
   "id": "13178c7c",
   "metadata": {
    "papermill": {
     "duration": 0.011607,
     "end_time": "2024-09-16T16:09:53.316120",
     "exception": false,
     "start_time": "2024-09-16T16:09:53.304513",
     "status": "completed"
    },
    "tags": []
   },
   "source": [
    "Veri setimiz 6362620 gözlemden ve 11 kategoriden oluşmaktadır."
   ]
  },
  {
   "cell_type": "code",
   "execution_count": 4,
   "id": "46430191",
   "metadata": {
    "execution": {
     "iopub.execute_input": "2024-09-16T16:09:53.342825Z",
     "iopub.status.busy": "2024-09-16T16:09:53.341681Z",
     "iopub.status.idle": "2024-09-16T16:09:53.366193Z",
     "shell.execute_reply": "2024-09-16T16:09:53.364714Z"
    },
    "papermill": {
     "duration": 0.040161,
     "end_time": "2024-09-16T16:09:53.368460",
     "exception": false,
     "start_time": "2024-09-16T16:09:53.328299",
     "status": "completed"
    },
    "tags": []
   },
   "outputs": [
    {
     "name": "stdout",
     "output_type": "stream",
     "text": [
      "<class 'pandas.core.frame.DataFrame'>\n",
      "RangeIndex: 6362620 entries, 0 to 6362619\n",
      "Data columns (total 11 columns):\n",
      " #   Column          Dtype  \n",
      "---  ------          -----  \n",
      " 0   step            int64  \n",
      " 1   type            object \n",
      " 2   amount          float64\n",
      " 3   nameOrig        object \n",
      " 4   oldbalanceOrg   float64\n",
      " 5   newbalanceOrig  float64\n",
      " 6   nameDest        object \n",
      " 7   oldbalanceDest  float64\n",
      " 8   newbalanceDest  float64\n",
      " 9   isFraud         int64  \n",
      " 10  isFlaggedFraud  int64  \n",
      "dtypes: float64(5), int64(3), object(3)\n",
      "memory usage: 534.0+ MB\n"
     ]
    }
   ],
   "source": [
    "# Veriler hakkında bilgi al\n",
    "df.info()"
   ]
  },
  {
   "cell_type": "code",
   "execution_count": 5,
   "id": "4de3087e",
   "metadata": {
    "execution": {
     "iopub.execute_input": "2024-09-16T16:09:53.393850Z",
     "iopub.status.busy": "2024-09-16T16:09:53.393494Z",
     "iopub.status.idle": "2024-09-16T16:09:55.296608Z",
     "shell.execute_reply": "2024-09-16T16:09:55.295625Z"
    },
    "papermill": {
     "duration": 1.91852,
     "end_time": "2024-09-16T16:09:55.299068",
     "exception": false,
     "start_time": "2024-09-16T16:09:53.380548",
     "status": "completed"
    },
    "tags": []
   },
   "outputs": [
    {
     "data": {
      "text/html": [
       "<div>\n",
       "<style scoped>\n",
       "    .dataframe tbody tr th:only-of-type {\n",
       "        vertical-align: middle;\n",
       "    }\n",
       "\n",
       "    .dataframe tbody tr th {\n",
       "        vertical-align: top;\n",
       "    }\n",
       "\n",
       "    .dataframe thead th {\n",
       "        text-align: right;\n",
       "    }\n",
       "</style>\n",
       "<table border=\"1\" class=\"dataframe\">\n",
       "  <thead>\n",
       "    <tr style=\"text-align: right;\">\n",
       "      <th></th>\n",
       "      <th>count</th>\n",
       "      <th>mean</th>\n",
       "      <th>std</th>\n",
       "      <th>min</th>\n",
       "      <th>25%</th>\n",
       "      <th>50%</th>\n",
       "      <th>75%</th>\n",
       "      <th>max</th>\n",
       "    </tr>\n",
       "  </thead>\n",
       "  <tbody>\n",
       "    <tr>\n",
       "      <th>step</th>\n",
       "      <td>6362620.0</td>\n",
       "      <td>2.433972e+02</td>\n",
       "      <td>1.423320e+02</td>\n",
       "      <td>1.0</td>\n",
       "      <td>156.00</td>\n",
       "      <td>239.000</td>\n",
       "      <td>3.350000e+02</td>\n",
       "      <td>7.430000e+02</td>\n",
       "    </tr>\n",
       "    <tr>\n",
       "      <th>amount</th>\n",
       "      <td>6362620.0</td>\n",
       "      <td>1.798619e+05</td>\n",
       "      <td>6.038582e+05</td>\n",
       "      <td>0.0</td>\n",
       "      <td>13389.57</td>\n",
       "      <td>74871.940</td>\n",
       "      <td>2.087215e+05</td>\n",
       "      <td>9.244552e+07</td>\n",
       "    </tr>\n",
       "    <tr>\n",
       "      <th>oldbalanceOrg</th>\n",
       "      <td>6362620.0</td>\n",
       "      <td>8.338831e+05</td>\n",
       "      <td>2.888243e+06</td>\n",
       "      <td>0.0</td>\n",
       "      <td>0.00</td>\n",
       "      <td>14208.000</td>\n",
       "      <td>1.073152e+05</td>\n",
       "      <td>5.958504e+07</td>\n",
       "    </tr>\n",
       "    <tr>\n",
       "      <th>newbalanceOrig</th>\n",
       "      <td>6362620.0</td>\n",
       "      <td>8.551137e+05</td>\n",
       "      <td>2.924049e+06</td>\n",
       "      <td>0.0</td>\n",
       "      <td>0.00</td>\n",
       "      <td>0.000</td>\n",
       "      <td>1.442584e+05</td>\n",
       "      <td>4.958504e+07</td>\n",
       "    </tr>\n",
       "    <tr>\n",
       "      <th>oldbalanceDest</th>\n",
       "      <td>6362620.0</td>\n",
       "      <td>1.100702e+06</td>\n",
       "      <td>3.399180e+06</td>\n",
       "      <td>0.0</td>\n",
       "      <td>0.00</td>\n",
       "      <td>132705.665</td>\n",
       "      <td>9.430367e+05</td>\n",
       "      <td>3.560159e+08</td>\n",
       "    </tr>\n",
       "    <tr>\n",
       "      <th>newbalanceDest</th>\n",
       "      <td>6362620.0</td>\n",
       "      <td>1.224996e+06</td>\n",
       "      <td>3.674129e+06</td>\n",
       "      <td>0.0</td>\n",
       "      <td>0.00</td>\n",
       "      <td>214661.440</td>\n",
       "      <td>1.111909e+06</td>\n",
       "      <td>3.561793e+08</td>\n",
       "    </tr>\n",
       "    <tr>\n",
       "      <th>isFraud</th>\n",
       "      <td>6362620.0</td>\n",
       "      <td>1.290820e-03</td>\n",
       "      <td>3.590480e-02</td>\n",
       "      <td>0.0</td>\n",
       "      <td>0.00</td>\n",
       "      <td>0.000</td>\n",
       "      <td>0.000000e+00</td>\n",
       "      <td>1.000000e+00</td>\n",
       "    </tr>\n",
       "    <tr>\n",
       "      <th>isFlaggedFraud</th>\n",
       "      <td>6362620.0</td>\n",
       "      <td>2.514687e-06</td>\n",
       "      <td>1.585775e-03</td>\n",
       "      <td>0.0</td>\n",
       "      <td>0.00</td>\n",
       "      <td>0.000</td>\n",
       "      <td>0.000000e+00</td>\n",
       "      <td>1.000000e+00</td>\n",
       "    </tr>\n",
       "  </tbody>\n",
       "</table>\n",
       "</div>"
      ],
      "text/plain": [
       "                    count          mean           std  min       25%  \\\n",
       "step            6362620.0  2.433972e+02  1.423320e+02  1.0    156.00   \n",
       "amount          6362620.0  1.798619e+05  6.038582e+05  0.0  13389.57   \n",
       "oldbalanceOrg   6362620.0  8.338831e+05  2.888243e+06  0.0      0.00   \n",
       "newbalanceOrig  6362620.0  8.551137e+05  2.924049e+06  0.0      0.00   \n",
       "oldbalanceDest  6362620.0  1.100702e+06  3.399180e+06  0.0      0.00   \n",
       "newbalanceDest  6362620.0  1.224996e+06  3.674129e+06  0.0      0.00   \n",
       "isFraud         6362620.0  1.290820e-03  3.590480e-02  0.0      0.00   \n",
       "isFlaggedFraud  6362620.0  2.514687e-06  1.585775e-03  0.0      0.00   \n",
       "\n",
       "                       50%           75%           max  \n",
       "step               239.000  3.350000e+02  7.430000e+02  \n",
       "amount           74871.940  2.087215e+05  9.244552e+07  \n",
       "oldbalanceOrg    14208.000  1.073152e+05  5.958504e+07  \n",
       "newbalanceOrig       0.000  1.442584e+05  4.958504e+07  \n",
       "oldbalanceDest  132705.665  9.430367e+05  3.560159e+08  \n",
       "newbalanceDest  214661.440  1.111909e+06  3.561793e+08  \n",
       "isFraud              0.000  0.000000e+00  1.000000e+00  \n",
       "isFlaggedFraud       0.000  0.000000e+00  1.000000e+00  "
      ]
     },
     "execution_count": 5,
     "metadata": {},
     "output_type": "execute_result"
    }
   ],
   "source": [
    "# Verilerin tanımlayıcı istatistiklerini al\n",
    "df.describe().T"
   ]
  },
  {
   "cell_type": "markdown",
   "id": "5c9db6ad",
   "metadata": {
    "papermill": {
     "duration": 0.011962,
     "end_time": "2024-09-16T16:09:55.323485",
     "exception": false,
     "start_time": "2024-09-16T16:09:55.311523",
     "status": "completed"
    },
    "tags": []
   },
   "source": [
    "# * **Veri Ön İşleme**"
   ]
  },
  {
   "cell_type": "markdown",
   "id": "9fb1c928",
   "metadata": {
    "papermill": {
     "duration": 0.011895,
     "end_time": "2024-09-16T16:09:55.347508",
     "exception": false,
     "start_time": "2024-09-16T16:09:55.335613",
     "status": "completed"
    },
    "tags": []
   },
   "source": [
    "*Eksik değer kontrolü*"
   ]
  },
  {
   "cell_type": "code",
   "execution_count": 6,
   "id": "9df7b05b",
   "metadata": {
    "execution": {
     "iopub.execute_input": "2024-09-16T16:09:55.373185Z",
     "iopub.status.busy": "2024-09-16T16:09:55.372770Z",
     "iopub.status.idle": "2024-09-16T16:09:56.304477Z",
     "shell.execute_reply": "2024-09-16T16:09:56.303133Z"
    },
    "papermill": {
     "duration": 0.947291,
     "end_time": "2024-09-16T16:09:56.306749",
     "exception": false,
     "start_time": "2024-09-16T16:09:55.359458",
     "status": "completed"
    },
    "tags": []
   },
   "outputs": [
    {
     "name": "stdout",
     "output_type": "stream",
     "text": [
      "GREAT, There is no missing values in this dataset\n"
     ]
    }
   ],
   "source": [
    "if df.isnull().values.any():\n",
    "    print('There are some missing values in this dataset\\n')\n",
    "    df.dropna(inplace=True)\n",
    "    print('Shape : ', data.shape) \n",
    "else:\n",
    "    print('GREAT, There is no missing values in this dataset')"
   ]
  },
  {
   "cell_type": "markdown",
   "id": "16454008",
   "metadata": {
    "papermill": {
     "duration": 0.012235,
     "end_time": "2024-09-16T16:09:56.331385",
     "exception": false,
     "start_time": "2024-09-16T16:09:56.319150",
     "status": "completed"
    },
    "tags": []
   },
   "source": [
    "*Aykırı değerleri incelemek ve görmek için tablo çizimi*"
   ]
  },
  {
   "cell_type": "code",
   "execution_count": 7,
   "id": "591c363e",
   "metadata": {
    "execution": {
     "iopub.execute_input": "2024-09-16T16:09:56.357446Z",
     "iopub.status.busy": "2024-09-16T16:09:56.357028Z",
     "iopub.status.idle": "2024-09-16T16:10:09.436126Z",
     "shell.execute_reply": "2024-09-16T16:10:09.434977Z"
    },
    "papermill": {
     "duration": 13.095063,
     "end_time": "2024-09-16T16:10:09.438705",
     "exception": false,
     "start_time": "2024-09-16T16:09:56.343642",
     "status": "completed"
    },
    "tags": []
   },
   "outputs": [
    {
     "data": {
      "image/png": "[encoded data removed]",
      "text/plain": [
       "<Figure size 1000x600 with 1 Axes>"
      ]
     },
     "metadata": {},
     "output_type": "display_data"
    }
   ],
   "source": [
    "plt.figure(figsize=(10, 6))\n",
    "sns.boxplot(data=df, orient='h') # horizontal\n",
    "plt.title('Outliers')\n",
    "plt.grid(axis='y')\n",
    "plt.show()"
   ]
  },
  {
   "cell_type": "markdown",
   "id": "68a91231",
   "metadata": {
    "papermill": {
     "duration": 0.012472,
     "end_time": "2024-09-16T16:10:09.464118",
     "exception": false,
     "start_time": "2024-09-16T16:10:09.451646",
     "status": "completed"
    },
    "tags": []
   },
   "source": [
    "# * **\"type\" Özelliğinin Kategorilerinin EDA Çalışması**"
   ]
  },
  {
   "cell_type": "code",
   "execution_count": 8,
   "id": "5b252bf4",
   "metadata": {
    "execution": {
     "iopub.execute_input": "2024-09-16T16:10:09.491359Z",
     "iopub.status.busy": "2024-09-16T16:10:09.490918Z",
     "iopub.status.idle": "2024-09-16T16:10:09.920978Z",
     "shell.execute_reply": "2024-09-16T16:10:09.920010Z"
    },
    "papermill": {
     "duration": 0.446315,
     "end_time": "2024-09-16T16:10:09.923208",
     "exception": false,
     "start_time": "2024-09-16T16:10:09.476893",
     "status": "completed"
    },
    "tags": []
   },
   "outputs": [
    {
     "data": {
      "text/plain": [
       "array(['PAYMENT', 'TRANSFER', 'CASH_OUT', 'DEBIT', 'CASH_IN'],\n",
       "      dtype=object)"
      ]
     },
     "execution_count": 8,
     "metadata": {},
     "output_type": "execute_result"
    }
   ],
   "source": [
    "# Type değişkenindeki benzersiz değerler (kategori adları)\n",
    "df['type'].unique()"
   ]
  },
  {
   "cell_type": "code",
   "execution_count": 9,
   "id": "d91ab2c1",
   "metadata": {
    "execution": {
     "iopub.execute_input": "2024-09-16T16:10:09.951734Z",
     "iopub.status.busy": "2024-09-16T16:10:09.950814Z",
     "iopub.status.idle": "2024-09-16T16:10:10.460602Z",
     "shell.execute_reply": "2024-09-16T16:10:10.459414Z"
    },
    "papermill": {
     "duration": 0.526833,
     "end_time": "2024-09-16T16:10:10.462998",
     "exception": false,
     "start_time": "2024-09-16T16:10:09.936165",
     "status": "completed"
    },
    "tags": []
   },
   "outputs": [
    {
     "data": {
      "text/plain": [
       "type\n",
       "CASH_OUT    2237500\n",
       "PAYMENT     2151495\n",
       "CASH_IN     1399284\n",
       "TRANSFER     532909\n",
       "DEBIT         41432\n",
       "Name: count, dtype: int64"
      ]
     },
     "execution_count": 9,
     "metadata": {},
     "output_type": "execute_result"
    }
   ],
   "source": [
    "# Type değişkeni içindeki kategorilere göre saklanan veri sayısı\n",
    "df['type'].value_counts()"
   ]
  },
  {
   "cell_type": "markdown",
   "id": "a04f2d7d",
   "metadata": {
    "papermill": {
     "duration": 0.012679,
     "end_time": "2024-09-16T16:10:10.488879",
     "exception": false,
     "start_time": "2024-09-16T16:10:10.476200",
     "status": "completed"
    },
    "tags": []
   },
   "source": [
    "*Yukardaki çalışmanın görselleştirilmiş hali*"
   ]
  },
  {
   "cell_type": "code",
   "execution_count": 10,
   "id": "5e49fdba",
   "metadata": {
    "execution": {
     "iopub.execute_input": "2024-09-16T16:10:10.516411Z",
     "iopub.status.busy": "2024-09-16T16:10:10.515993Z",
     "iopub.status.idle": "2024-09-16T16:10:14.471567Z",
     "shell.execute_reply": "2024-09-16T16:10:14.470525Z"
    },
    "papermill": {
     "duration": 3.97205,
     "end_time": "2024-09-16T16:10:14.473858",
     "exception": false,
     "start_time": "2024-09-16T16:10:10.501808",
     "status": "completed"
    },
    "tags": []
   },
   "outputs": [
    {
     "data": {
      "image/png": "[encoded data removed]",
      "text/plain": [
       "<Figure size 1000x1000 with 1 Axes>"
      ]
     },
     "metadata": {},
     "output_type": "display_data"
    }
   ],
   "source": [
    "plt.figure(figsize=(10,10))\n",
    "plt.title('type vs counts')\n",
    "sns.countplot(data=df,x='type')\n",
    "plt.xlabel('Type')\n",
    "plt.ylabel('Counts')\n",
    "plt.grid(axis='y', alpha=1)\n",
    "plt.show()"
   ]
  },
  {
   "cell_type": "markdown",
   "id": "29209def",
   "metadata": {
    "papermill": {
     "duration": 0.013636,
     "end_time": "2024-09-16T16:10:14.501269",
     "exception": false,
     "start_time": "2024-09-16T16:10:14.487633",
     "status": "completed"
    },
    "tags": []
   },
   "source": [
    "# * ***Label Encoding***"
   ]
  },
  {
   "cell_type": "markdown",
   "id": "036f3be7",
   "metadata": {
    "papermill": {
     "duration": 0.012965,
     "end_time": "2024-09-16T16:10:14.527479",
     "exception": false,
     "start_time": "2024-09-16T16:10:14.514514",
     "status": "completed"
    },
    "tags": []
   },
   "source": [
    "Kategorik değerleri sayısal değerlere dönüştürme"
   ]
  },
  {
   "cell_type": "code",
   "execution_count": 11,
   "id": "1c94ae5b",
   "metadata": {
    "execution": {
     "iopub.execute_input": "2024-09-16T16:10:14.556106Z",
     "iopub.status.busy": "2024-09-16T16:10:14.555681Z",
     "iopub.status.idle": "2024-09-16T16:10:17.648337Z",
     "shell.execute_reply": "2024-09-16T16:10:17.647213Z"
    },
    "papermill": {
     "duration": 3.10986,
     "end_time": "2024-09-16T16:10:17.650413",
     "exception": false,
     "start_time": "2024-09-16T16:10:14.540553",
     "status": "completed"
    },
    "tags": []
   },
   "outputs": [
    {
     "name": "stderr",
     "output_type": "stream",
     "text": [
      "/tmp/ipykernel_17/1690466510.py:1: FutureWarning: A value is trying to be set on a copy of a DataFrame or Series through chained assignment using an inplace method.\n",
      "The behavior will change in pandas 3.0. This inplace method will never work because the intermediate object on which we are setting values always behaves as a copy.\n",
      "\n",
      "For example, when doing 'df[col].method(value, inplace=True)', try using 'df.method({col: value}, inplace=True)' or df[col] = df[col].method(value) instead, to perform the operation inplace on the original object.\n",
      "\n",
      "\n",
      "  df['type'].replace({'CASH_OUT':0, 'PAYMENT':1, 'CASH_IN':2, 'TRANSFER':3, 'DEBIT':4}, inplace=True)\n",
      "/tmp/ipykernel_17/1690466510.py:1: FutureWarning: Downcasting behavior in `replace` is deprecated and will be removed in a future version. To retain the old behavior, explicitly call `result.infer_objects(copy=False)`. To opt-in to the future behavior, set `pd.set_option('future.no_silent_downcasting', True)`\n",
      "  df['type'].replace({'CASH_OUT':0, 'PAYMENT':1, 'CASH_IN':2, 'TRANSFER':3, 'DEBIT':4}, inplace=True)\n"
     ]
    }
   ],
   "source": [
    "df['type'].replace({'CASH_OUT':0, 'PAYMENT':1, 'CASH_IN':2, 'TRANSFER':3, 'DEBIT':4}, inplace=True)"
   ]
  },
  {
   "cell_type": "code",
   "execution_count": 12,
   "id": "b12885ca",
   "metadata": {
    "execution": {
     "iopub.execute_input": "2024-09-16T16:10:17.679064Z",
     "iopub.status.busy": "2024-09-16T16:10:17.678671Z",
     "iopub.status.idle": "2024-09-16T16:10:17.747607Z",
     "shell.execute_reply": "2024-09-16T16:10:17.746402Z"
    },
    "papermill": {
     "duration": 0.085776,
     "end_time": "2024-09-16T16:10:17.749763",
     "exception": false,
     "start_time": "2024-09-16T16:10:17.663987",
     "status": "completed"
    },
    "tags": []
   },
   "outputs": [
    {
     "data": {
      "text/plain": [
       "type\n",
       "0    2237500\n",
       "1    2151495\n",
       "2    1399284\n",
       "3     532909\n",
       "4      41432\n",
       "Name: count, dtype: int64"
      ]
     },
     "execution_count": 12,
     "metadata": {},
     "output_type": "execute_result"
    }
   ],
   "source": [
    "df['type'].value_counts()"
   ]
  },
  {
   "cell_type": "code",
   "execution_count": 13,
   "id": "c29b7f99",
   "metadata": {
    "execution": {
     "iopub.execute_input": "2024-09-16T16:10:17.780219Z",
     "iopub.status.busy": "2024-09-16T16:10:17.779141Z",
     "iopub.status.idle": "2024-09-16T16:10:17.800882Z",
     "shell.execute_reply": "2024-09-16T16:10:17.799807Z"
    },
    "papermill": {
     "duration": 0.038955,
     "end_time": "2024-09-16T16:10:17.803058",
     "exception": false,
     "start_time": "2024-09-16T16:10:17.764103",
     "status": "completed"
    },
    "tags": []
   },
   "outputs": [
    {
     "data": {
      "text/html": [
       "<div>\n",
       "<style scoped>\n",
       "    .dataframe tbody tr th:only-of-type {\n",
       "        vertical-align: middle;\n",
       "    }\n",
       "\n",
       "    .dataframe tbody tr th {\n",
       "        vertical-align: top;\n",
       "    }\n",
       "\n",
       "    .dataframe thead th {\n",
       "        text-align: right;\n",
       "    }\n",
       "</style>\n",
       "<table border=\"1\" class=\"dataframe\">\n",
       "  <thead>\n",
       "    <tr style=\"text-align: right;\">\n",
       "      <th></th>\n",
       "      <th>step</th>\n",
       "      <th>type</th>\n",
       "      <th>amount</th>\n",
       "      <th>nameOrig</th>\n",
       "      <th>oldbalanceOrg</th>\n",
       "      <th>newbalanceOrig</th>\n",
       "      <th>nameDest</th>\n",
       "      <th>oldbalanceDest</th>\n",
       "      <th>newbalanceDest</th>\n",
       "      <th>isFraud</th>\n",
       "      <th>isFlaggedFraud</th>\n",
       "    </tr>\n",
       "  </thead>\n",
       "  <tbody>\n",
       "    <tr>\n",
       "      <th>0</th>\n",
       "      <td>1</td>\n",
       "      <td>1</td>\n",
       "      <td>9839.64</td>\n",
       "      <td>C1231006815</td>\n",
       "      <td>170136.00</td>\n",
       "      <td>160296.36</td>\n",
       "      <td>M1979787155</td>\n",
       "      <td>0.0</td>\n",
       "      <td>0.00</td>\n",
       "      <td>0</td>\n",
       "      <td>0</td>\n",
       "    </tr>\n",
       "    <tr>\n",
       "      <th>1</th>\n",
       "      <td>1</td>\n",
       "      <td>1</td>\n",
       "      <td>1864.28</td>\n",
       "      <td>C1666544295</td>\n",
       "      <td>21249.00</td>\n",
       "      <td>19384.72</td>\n",
       "      <td>M2044282225</td>\n",
       "      <td>0.0</td>\n",
       "      <td>0.00</td>\n",
       "      <td>0</td>\n",
       "      <td>0</td>\n",
       "    </tr>\n",
       "    <tr>\n",
       "      <th>2</th>\n",
       "      <td>1</td>\n",
       "      <td>3</td>\n",
       "      <td>181.00</td>\n",
       "      <td>C1305486145</td>\n",
       "      <td>181.00</td>\n",
       "      <td>0.00</td>\n",
       "      <td>C553264065</td>\n",
       "      <td>0.0</td>\n",
       "      <td>0.00</td>\n",
       "      <td>1</td>\n",
       "      <td>0</td>\n",
       "    </tr>\n",
       "    <tr>\n",
       "      <th>3</th>\n",
       "      <td>1</td>\n",
       "      <td>0</td>\n",
       "      <td>181.00</td>\n",
       "      <td>C840083671</td>\n",
       "      <td>181.00</td>\n",
       "      <td>0.00</td>\n",
       "      <td>C38997010</td>\n",
       "      <td>21182.0</td>\n",
       "      <td>0.00</td>\n",
       "      <td>1</td>\n",
       "      <td>0</td>\n",
       "    </tr>\n",
       "    <tr>\n",
       "      <th>4</th>\n",
       "      <td>1</td>\n",
       "      <td>1</td>\n",
       "      <td>11668.14</td>\n",
       "      <td>C2048537720</td>\n",
       "      <td>41554.00</td>\n",
       "      <td>29885.86</td>\n",
       "      <td>M1230701703</td>\n",
       "      <td>0.0</td>\n",
       "      <td>0.00</td>\n",
       "      <td>0</td>\n",
       "      <td>0</td>\n",
       "    </tr>\n",
       "    <tr>\n",
       "      <th>5</th>\n",
       "      <td>1</td>\n",
       "      <td>1</td>\n",
       "      <td>7817.71</td>\n",
       "      <td>C90045638</td>\n",
       "      <td>53860.00</td>\n",
       "      <td>46042.29</td>\n",
       "      <td>M573487274</td>\n",
       "      <td>0.0</td>\n",
       "      <td>0.00</td>\n",
       "      <td>0</td>\n",
       "      <td>0</td>\n",
       "    </tr>\n",
       "    <tr>\n",
       "      <th>6</th>\n",
       "      <td>1</td>\n",
       "      <td>1</td>\n",
       "      <td>7107.77</td>\n",
       "      <td>C154988899</td>\n",
       "      <td>183195.00</td>\n",
       "      <td>176087.23</td>\n",
       "      <td>M408069119</td>\n",
       "      <td>0.0</td>\n",
       "      <td>0.00</td>\n",
       "      <td>0</td>\n",
       "      <td>0</td>\n",
       "    </tr>\n",
       "    <tr>\n",
       "      <th>7</th>\n",
       "      <td>1</td>\n",
       "      <td>1</td>\n",
       "      <td>7861.64</td>\n",
       "      <td>C1912850431</td>\n",
       "      <td>176087.23</td>\n",
       "      <td>168225.59</td>\n",
       "      <td>M633326333</td>\n",
       "      <td>0.0</td>\n",
       "      <td>0.00</td>\n",
       "      <td>0</td>\n",
       "      <td>0</td>\n",
       "    </tr>\n",
       "    <tr>\n",
       "      <th>8</th>\n",
       "      <td>1</td>\n",
       "      <td>1</td>\n",
       "      <td>4024.36</td>\n",
       "      <td>C1265012928</td>\n",
       "      <td>2671.00</td>\n",
       "      <td>0.00</td>\n",
       "      <td>M1176932104</td>\n",
       "      <td>0.0</td>\n",
       "      <td>0.00</td>\n",
       "      <td>0</td>\n",
       "      <td>0</td>\n",
       "    </tr>\n",
       "    <tr>\n",
       "      <th>9</th>\n",
       "      <td>1</td>\n",
       "      <td>4</td>\n",
       "      <td>5337.77</td>\n",
       "      <td>C712410124</td>\n",
       "      <td>41720.00</td>\n",
       "      <td>36382.23</td>\n",
       "      <td>C195600860</td>\n",
       "      <td>41898.0</td>\n",
       "      <td>40348.79</td>\n",
       "      <td>0</td>\n",
       "      <td>0</td>\n",
       "    </tr>\n",
       "    <tr>\n",
       "      <th>10</th>\n",
       "      <td>1</td>\n",
       "      <td>4</td>\n",
       "      <td>9644.94</td>\n",
       "      <td>C1900366749</td>\n",
       "      <td>4465.00</td>\n",
       "      <td>0.00</td>\n",
       "      <td>C997608398</td>\n",
       "      <td>10845.0</td>\n",
       "      <td>157982.12</td>\n",
       "      <td>0</td>\n",
       "      <td>0</td>\n",
       "    </tr>\n",
       "    <tr>\n",
       "      <th>11</th>\n",
       "      <td>1</td>\n",
       "      <td>1</td>\n",
       "      <td>3099.97</td>\n",
       "      <td>C249177573</td>\n",
       "      <td>20771.00</td>\n",
       "      <td>17671.03</td>\n",
       "      <td>M2096539129</td>\n",
       "      <td>0.0</td>\n",
       "      <td>0.00</td>\n",
       "      <td>0</td>\n",
       "      <td>0</td>\n",
       "    </tr>\n",
       "    <tr>\n",
       "      <th>12</th>\n",
       "      <td>1</td>\n",
       "      <td>1</td>\n",
       "      <td>2560.74</td>\n",
       "      <td>C1648232591</td>\n",
       "      <td>5070.00</td>\n",
       "      <td>2509.26</td>\n",
       "      <td>M972865270</td>\n",
       "      <td>0.0</td>\n",
       "      <td>0.00</td>\n",
       "      <td>0</td>\n",
       "      <td>0</td>\n",
       "    </tr>\n",
       "    <tr>\n",
       "      <th>13</th>\n",
       "      <td>1</td>\n",
       "      <td>1</td>\n",
       "      <td>11633.76</td>\n",
       "      <td>C1716932897</td>\n",
       "      <td>10127.00</td>\n",
       "      <td>0.00</td>\n",
       "      <td>M801569151</td>\n",
       "      <td>0.0</td>\n",
       "      <td>0.00</td>\n",
       "      <td>0</td>\n",
       "      <td>0</td>\n",
       "    </tr>\n",
       "    <tr>\n",
       "      <th>14</th>\n",
       "      <td>1</td>\n",
       "      <td>1</td>\n",
       "      <td>4098.78</td>\n",
       "      <td>C1026483832</td>\n",
       "      <td>503264.00</td>\n",
       "      <td>499165.22</td>\n",
       "      <td>M1635378213</td>\n",
       "      <td>0.0</td>\n",
       "      <td>0.00</td>\n",
       "      <td>0</td>\n",
       "      <td>0</td>\n",
       "    </tr>\n",
       "  </tbody>\n",
       "</table>\n",
       "</div>"
      ],
      "text/plain": [
       "    step  type    amount     nameOrig  oldbalanceOrg  newbalanceOrig  \\\n",
       "0      1     1   9839.64  C1231006815      170136.00       160296.36   \n",
       "1      1     1   1864.28  C1666544295       21249.00        19384.72   \n",
       "2      1     3    181.00  C1305486145         181.00            0.00   \n",
       "3      1     0    181.00   C840083671         181.00            0.00   \n",
       "4      1     1  11668.14  C2048537720       41554.00        29885.86   \n",
       "5      1     1   7817.71    C90045638       53860.00        46042.29   \n",
       "6      1     1   7107.77   C154988899      183195.00       176087.23   \n",
       "7      1     1   7861.64  C1912850431      176087.23       168225.59   \n",
       "8      1     1   4024.36  C1265012928        2671.00            0.00   \n",
       "9      1     4   5337.77   C712410124       41720.00        36382.23   \n",
       "10     1     4   9644.94  C1900366749        4465.00            0.00   \n",
       "11     1     1   3099.97   C249177573       20771.00        17671.03   \n",
       "12     1     1   2560.74  C1648232591        5070.00         2509.26   \n",
       "13     1     1  11633.76  C1716932897       10127.00            0.00   \n",
       "14     1     1   4098.78  C1026483832      503264.00       499165.22   \n",
       "\n",
       "       nameDest  oldbalanceDest  newbalanceDest  isFraud  isFlaggedFraud  \n",
       "0   M1979787155             0.0            0.00        0               0  \n",
       "1   M2044282225             0.0            0.00        0               0  \n",
       "2    C553264065             0.0            0.00        1               0  \n",
       "3     C38997010         21182.0            0.00        1               0  \n",
       "4   M1230701703             0.0            0.00        0               0  \n",
       "5    M573487274             0.0            0.00        0               0  \n",
       "6    M408069119             0.0            0.00        0               0  \n",
       "7    M633326333             0.0            0.00        0               0  \n",
       "8   M1176932104             0.0            0.00        0               0  \n",
       "9    C195600860         41898.0        40348.79        0               0  \n",
       "10   C997608398         10845.0       157982.12        0               0  \n",
       "11  M2096539129             0.0            0.00        0               0  \n",
       "12   M972865270             0.0            0.00        0               0  \n",
       "13   M801569151             0.0            0.00        0               0  \n",
       "14  M1635378213             0.0            0.00        0               0  "
      ]
     },
     "execution_count": 13,
     "metadata": {},
     "output_type": "execute_result"
    }
   ],
   "source": [
    "df.head(15)"
   ]
  },
  {
   "cell_type": "markdown",
   "id": "b51728ac",
   "metadata": {
    "papermill": {
     "duration": 0.013695,
     "end_time": "2024-09-16T16:10:17.831010",
     "exception": false,
     "start_time": "2024-09-16T16:10:17.817315",
     "status": "completed"
    },
    "tags": []
   },
   "source": [
    "# * **\"isFraud\" Özelliğinin Kategorilerinin EDA Çalışması**"
   ]
  },
  {
   "cell_type": "code",
   "execution_count": 14,
   "id": "2418baeb",
   "metadata": {
    "execution": {
     "iopub.execute_input": "2024-09-16T16:10:17.860803Z",
     "iopub.status.busy": "2024-09-16T16:10:17.860383Z",
     "iopub.status.idle": "2024-09-16T16:10:17.902773Z",
     "shell.execute_reply": "2024-09-16T16:10:17.901559Z"
    },
    "papermill": {
     "duration": 0.060045,
     "end_time": "2024-09-16T16:10:17.905121",
     "exception": false,
     "start_time": "2024-09-16T16:10:17.845076",
     "status": "completed"
    },
    "tags": []
   },
   "outputs": [
    {
     "data": {
      "text/plain": [
       "array([0, 1])"
      ]
     },
     "execution_count": 14,
     "metadata": {},
     "output_type": "execute_result"
    }
   ],
   "source": [
    "# \"isFraud\" benzersiz değerleri\n",
    "df['isFraud'].unique()\n"
   ]
  },
  {
   "cell_type": "code",
   "execution_count": 15,
   "id": "2715a7dc",
   "metadata": {
    "execution": {
     "iopub.execute_input": "2024-09-16T16:10:17.936495Z",
     "iopub.status.busy": "2024-09-16T16:10:17.936088Z",
     "iopub.status.idle": "2024-09-16T16:10:18.005509Z",
     "shell.execute_reply": "2024-09-16T16:10:18.004490Z"
    },
    "papermill": {
     "duration": 0.087281,
     "end_time": "2024-09-16T16:10:18.007650",
     "exception": false,
     "start_time": "2024-09-16T16:10:17.920369",
     "status": "completed"
    },
    "tags": []
   },
   "outputs": [
    {
     "data": {
      "text/plain": [
       "isFraud\n",
       "0    6354407\n",
       "1       8213\n",
       "Name: count, dtype: int64"
      ]
     },
     "execution_count": 15,
     "metadata": {},
     "output_type": "execute_result"
    }
   ],
   "source": [
    "# isFraud değişkeni içindeki kategorilere göre saklanan veri sayısı\n",
    "df['isFraud'].value_counts()"
   ]
  },
  {
   "cell_type": "markdown",
   "id": "f48a0f93",
   "metadata": {
    "papermill": {
     "duration": 0.014662,
     "end_time": "2024-09-16T16:10:18.036987",
     "exception": false,
     "start_time": "2024-09-16T16:10:18.022325",
     "status": "completed"
    },
    "tags": []
   },
   "source": [
    "*Yukardaki çalışmanın görselleştirilmiş hali*"
   ]
  },
  {
   "cell_type": "code",
   "execution_count": 16,
   "id": "97eda75c",
   "metadata": {
    "execution": {
     "iopub.execute_input": "2024-09-16T16:10:18.067633Z",
     "iopub.status.busy": "2024-09-16T16:10:18.066707Z",
     "iopub.status.idle": "2024-09-16T16:10:18.338129Z",
     "shell.execute_reply": "2024-09-16T16:10:18.336971Z"
    },
    "papermill": {
     "duration": 0.289041,
     "end_time": "2024-09-16T16:10:18.340299",
     "exception": false,
     "start_time": "2024-09-16T16:10:18.051258",
     "status": "completed"
    },
    "tags": []
   },
   "outputs": [
    {
     "data": {
      "image/png": "[encoded data removed]",
      "text/plain": [
       "<Figure size 640x480 with 1 Axes>"
      ]
     },
     "metadata": {},
     "output_type": "display_data"
    }
   ],
   "source": [
    "Target_counts = df['isFraud'].value_counts()\n",
    "\n",
    "# Plot\n",
    "\n",
    "sns.barplot(x=Target_counts.index, y=Target_counts.values, palette='flare')\n",
    "plt.xlabel('Target')\n",
    "plt.ylabel('Count')\n",
    "plt.title('Counts of Target\\n NOT Fraud = 0 || IS Fraud = 1)')\n",
    "plt.xticks()\n",
    "plt.show()"
   ]
  },
  {
   "cell_type": "markdown",
   "id": "f4f1059d",
   "metadata": {
    "papermill": {
     "duration": 0.01438,
     "end_time": "2024-09-16T16:10:18.369470",
     "exception": false,
     "start_time": "2024-09-16T16:10:18.355090",
     "status": "completed"
    },
    "tags": []
   },
   "source": [
    "# * **Gereksiz Olan Sütunları Droplama**"
   ]
  },
  {
   "cell_type": "code",
   "execution_count": 17,
   "id": "0875edfc",
   "metadata": {
    "execution": {
     "iopub.execute_input": "2024-09-16T16:10:18.400114Z",
     "iopub.status.busy": "2024-09-16T16:10:18.399710Z",
     "iopub.status.idle": "2024-09-16T16:10:18.562681Z",
     "shell.execute_reply": "2024-09-16T16:10:18.561738Z"
    },
    "papermill": {
     "duration": 0.181451,
     "end_time": "2024-09-16T16:10:18.565348",
     "exception": false,
     "start_time": "2024-09-16T16:10:18.383897",
     "status": "completed"
    },
    "tags": []
   },
   "outputs": [],
   "source": [
    "df.drop(['nameOrig', 'nameDest'], axis=1, inplace=True)"
   ]
  },
  {
   "cell_type": "code",
   "execution_count": 18,
   "id": "5e9d39a5",
   "metadata": {
    "execution": {
     "iopub.execute_input": "2024-09-16T16:10:18.596407Z",
     "iopub.status.busy": "2024-09-16T16:10:18.595994Z",
     "iopub.status.idle": "2024-09-16T16:10:18.602816Z",
     "shell.execute_reply": "2024-09-16T16:10:18.601848Z"
    },
    "papermill": {
     "duration": 0.024631,
     "end_time": "2024-09-16T16:10:18.604938",
     "exception": false,
     "start_time": "2024-09-16T16:10:18.580307",
     "status": "completed"
    },
    "tags": []
   },
   "outputs": [
    {
     "data": {
      "text/plain": [
       "Index(['step', 'type', 'amount', 'oldbalanceOrg', 'newbalanceOrig',\n",
       "       'oldbalanceDest', 'newbalanceDest', 'isFraud', 'isFlaggedFraud'],\n",
       "      dtype='object')"
      ]
     },
     "execution_count": 18,
     "metadata": {},
     "output_type": "execute_result"
    }
   ],
   "source": [
    "df.columns"
   ]
  },
  {
   "cell_type": "markdown",
   "id": "9fb9d00e",
   "metadata": {
    "papermill": {
     "duration": 0.014291,
     "end_time": "2024-09-16T16:10:18.634113",
     "exception": false,
     "start_time": "2024-09-16T16:10:18.619822",
     "status": "completed"
    },
    "tags": []
   },
   "source": [
    "# * **Öznitelik Çıkarımı**"
   ]
  },
  {
   "cell_type": "code",
   "execution_count": 19,
   "id": "def49564",
   "metadata": {
    "execution": {
     "iopub.execute_input": "2024-09-16T16:10:18.665321Z",
     "iopub.status.busy": "2024-09-16T16:10:18.664467Z",
     "iopub.status.idle": "2024-09-16T16:10:20.423468Z",
     "shell.execute_reply": "2024-09-16T16:10:20.422284Z"
    },
    "papermill": {
     "duration": 1.777215,
     "end_time": "2024-09-16T16:10:20.425840",
     "exception": false,
     "start_time": "2024-09-16T16:10:18.648625",
     "status": "completed"
    },
    "tags": []
   },
   "outputs": [
    {
     "data": {
      "text/html": [
       "<div>\n",
       "<style scoped>\n",
       "    .dataframe tbody tr th:only-of-type {\n",
       "        vertical-align: middle;\n",
       "    }\n",
       "\n",
       "    .dataframe tbody tr th {\n",
       "        vertical-align: top;\n",
       "    }\n",
       "\n",
       "    .dataframe thead th {\n",
       "        text-align: right;\n",
       "    }\n",
       "</style>\n",
       "<table border=\"1\" class=\"dataframe\">\n",
       "  <thead>\n",
       "    <tr style=\"text-align: right;\">\n",
       "      <th></th>\n",
       "      <th>step</th>\n",
       "      <th>type</th>\n",
       "      <th>amount</th>\n",
       "      <th>oldbalanceOrg</th>\n",
       "      <th>newbalanceOrig</th>\n",
       "      <th>oldbalanceDest</th>\n",
       "      <th>newbalanceDest</th>\n",
       "      <th>isFraud</th>\n",
       "      <th>isFlaggedFraud</th>\n",
       "    </tr>\n",
       "  </thead>\n",
       "  <tbody>\n",
       "    <tr>\n",
       "      <th>step</th>\n",
       "      <td>1.000000</td>\n",
       "      <td>0.012627</td>\n",
       "      <td>0.022373</td>\n",
       "      <td>-0.010058</td>\n",
       "      <td>-0.010299</td>\n",
       "      <td>0.027665</td>\n",
       "      <td>0.025888</td>\n",
       "      <td>0.031578</td>\n",
       "      <td>0.003277</td>\n",
       "    </tr>\n",
       "    <tr>\n",
       "      <th>type</th>\n",
       "      <td>0.012627</td>\n",
       "      <td>1.000000</td>\n",
       "      <td>0.198987</td>\n",
       "      <td>0.260418</td>\n",
       "      <td>0.270669</td>\n",
       "      <td>0.066255</td>\n",
       "      <td>0.079111</td>\n",
       "      <td>0.016171</td>\n",
       "      <td>0.003144</td>\n",
       "    </tr>\n",
       "    <tr>\n",
       "      <th>amount</th>\n",
       "      <td>0.022373</td>\n",
       "      <td>0.198987</td>\n",
       "      <td>1.000000</td>\n",
       "      <td>-0.002762</td>\n",
       "      <td>-0.007861</td>\n",
       "      <td>0.294137</td>\n",
       "      <td>0.459304</td>\n",
       "      <td>0.076688</td>\n",
       "      <td>0.012295</td>\n",
       "    </tr>\n",
       "    <tr>\n",
       "      <th>oldbalanceOrg</th>\n",
       "      <td>-0.010058</td>\n",
       "      <td>0.260418</td>\n",
       "      <td>-0.002762</td>\n",
       "      <td>1.000000</td>\n",
       "      <td>0.998803</td>\n",
       "      <td>0.066243</td>\n",
       "      <td>0.042029</td>\n",
       "      <td>0.010154</td>\n",
       "      <td>0.003835</td>\n",
       "    </tr>\n",
       "    <tr>\n",
       "      <th>newbalanceOrig</th>\n",
       "      <td>-0.010299</td>\n",
       "      <td>0.270669</td>\n",
       "      <td>-0.007861</td>\n",
       "      <td>0.998803</td>\n",
       "      <td>1.000000</td>\n",
       "      <td>0.067812</td>\n",
       "      <td>0.041837</td>\n",
       "      <td>-0.008148</td>\n",
       "      <td>0.003776</td>\n",
       "    </tr>\n",
       "    <tr>\n",
       "      <th>oldbalanceDest</th>\n",
       "      <td>0.027665</td>\n",
       "      <td>0.066255</td>\n",
       "      <td>0.294137</td>\n",
       "      <td>0.066243</td>\n",
       "      <td>0.067812</td>\n",
       "      <td>1.000000</td>\n",
       "      <td>0.976569</td>\n",
       "      <td>-0.005885</td>\n",
       "      <td>-0.000513</td>\n",
       "    </tr>\n",
       "    <tr>\n",
       "      <th>newbalanceDest</th>\n",
       "      <td>0.025888</td>\n",
       "      <td>0.079111</td>\n",
       "      <td>0.459304</td>\n",
       "      <td>0.042029</td>\n",
       "      <td>0.041837</td>\n",
       "      <td>0.976569</td>\n",
       "      <td>1.000000</td>\n",
       "      <td>0.000535</td>\n",
       "      <td>-0.000529</td>\n",
       "    </tr>\n",
       "    <tr>\n",
       "      <th>isFraud</th>\n",
       "      <td>0.031578</td>\n",
       "      <td>0.016171</td>\n",
       "      <td>0.076688</td>\n",
       "      <td>0.010154</td>\n",
       "      <td>-0.008148</td>\n",
       "      <td>-0.005885</td>\n",
       "      <td>0.000535</td>\n",
       "      <td>1.000000</td>\n",
       "      <td>0.044109</td>\n",
       "    </tr>\n",
       "    <tr>\n",
       "      <th>isFlaggedFraud</th>\n",
       "      <td>0.003277</td>\n",
       "      <td>0.003144</td>\n",
       "      <td>0.012295</td>\n",
       "      <td>0.003835</td>\n",
       "      <td>0.003776</td>\n",
       "      <td>-0.000513</td>\n",
       "      <td>-0.000529</td>\n",
       "      <td>0.044109</td>\n",
       "      <td>1.000000</td>\n",
       "    </tr>\n",
       "  </tbody>\n",
       "</table>\n",
       "</div>"
      ],
      "text/plain": [
       "                    step      type    amount  oldbalanceOrg  newbalanceOrig  \\\n",
       "step            1.000000  0.012627  0.022373      -0.010058       -0.010299   \n",
       "type            0.012627  1.000000  0.198987       0.260418        0.270669   \n",
       "amount          0.022373  0.198987  1.000000      -0.002762       -0.007861   \n",
       "oldbalanceOrg  -0.010058  0.260418 -0.002762       1.000000        0.998803   \n",
       "newbalanceOrig -0.010299  0.270669 -0.007861       0.998803        1.000000   \n",
       "oldbalanceDest  0.027665  0.066255  0.294137       0.066243        0.067812   \n",
       "newbalanceDest  0.025888  0.079111  0.459304       0.042029        0.041837   \n",
       "isFraud         0.031578  0.016171  0.076688       0.010154       -0.008148   \n",
       "isFlaggedFraud  0.003277  0.003144  0.012295       0.003835        0.003776   \n",
       "\n",
       "                oldbalanceDest  newbalanceDest   isFraud  isFlaggedFraud  \n",
       "step                  0.027665        0.025888  0.031578        0.003277  \n",
       "type                  0.066255        0.079111  0.016171        0.003144  \n",
       "amount                0.294137        0.459304  0.076688        0.012295  \n",
       "oldbalanceOrg         0.066243        0.042029  0.010154        0.003835  \n",
       "newbalanceOrig        0.067812        0.041837 -0.008148        0.003776  \n",
       "oldbalanceDest        1.000000        0.976569 -0.005885       -0.000513  \n",
       "newbalanceDest        0.976569        1.000000  0.000535       -0.000529  \n",
       "isFraud              -0.005885        0.000535  1.000000        0.044109  \n",
       "isFlaggedFraud       -0.000513       -0.000529  0.044109        1.000000  "
      ]
     },
     "execution_count": 19,
     "metadata": {},
     "output_type": "execute_result"
    }
   ],
   "source": [
    "# Sayısal sütunlar arasındaki korelasyonu hesaplayalım. Korelasyon katsayısı 1'e yaklaştıkça değişkenlerin arasındaki ilişkinin gücü artar.\n",
    "df.corr(numeric_only=True)"
   ]
  },
  {
   "cell_type": "code",
   "execution_count": 20,
   "id": "4c818b5a",
   "metadata": {
    "execution": {
     "iopub.execute_input": "2024-09-16T16:10:20.458339Z",
     "iopub.status.busy": "2024-09-16T16:10:20.457428Z",
     "iopub.status.idle": "2024-09-16T16:10:22.773807Z",
     "shell.execute_reply": "2024-09-16T16:10:22.772638Z"
    },
    "papermill": {
     "duration": 2.335959,
     "end_time": "2024-09-16T16:10:22.777160",
     "exception": false,
     "start_time": "2024-09-16T16:10:20.441201",
     "status": "completed"
    },
    "tags": []
   },
   "outputs": [
    {
     "data": {
      "image/png": "[encoded data removed]",
      "text/plain": [
       "<Figure size 1600x1200 with 2 Axes>"
      ]
     },
     "metadata": {},
     "output_type": "display_data"
    }
   ],
   "source": [
    "# Korelasyon matrisini görselleştir\n",
    "plt.figure(figsize=(16, 12))\n",
    "corr=df.corr(numeric_only=True)\n",
    "sns.heatmap(corr,annot=True)\n",
    "plt.title('Korelasyon Matrisi', fontsize=15)\n",
    "plt.show()"
   ]
  },
  {
   "cell_type": "markdown",
   "id": "86650083",
   "metadata": {
    "papermill": {
     "duration": 0.016887,
     "end_time": "2024-09-16T16:10:22.812093",
     "exception": false,
     "start_time": "2024-09-16T16:10:22.795206",
     "status": "completed"
    },
    "tags": []
   },
   "source": [
    "# * **Korelasyona Göre Gereksiz Sütunları Droplama**"
   ]
  },
  {
   "cell_type": "code",
   "execution_count": 21,
   "id": "c25c999a",
   "metadata": {
    "execution": {
     "iopub.execute_input": "2024-09-16T16:10:22.849902Z",
     "iopub.status.busy": "2024-09-16T16:10:22.849509Z",
     "iopub.status.idle": "2024-09-16T16:10:22.981249Z",
     "shell.execute_reply": "2024-09-16T16:10:22.980266Z"
    },
    "papermill": {
     "duration": 0.153301,
     "end_time": "2024-09-16T16:10:22.983851",
     "exception": false,
     "start_time": "2024-09-16T16:10:22.830550",
     "status": "completed"
    },
    "tags": []
   },
   "outputs": [],
   "source": [
    "df.drop(['newbalanceOrig', 'oldbalanceDest'], axis=1, inplace=True)"
   ]
  },
  {
   "cell_type": "code",
   "execution_count": 22,
   "id": "9a48640e",
   "metadata": {
    "execution": {
     "iopub.execute_input": "2024-09-16T16:10:23.065970Z",
     "iopub.status.busy": "2024-09-16T16:10:23.065524Z",
     "iopub.status.idle": "2024-09-16T16:10:23.073172Z",
     "shell.execute_reply": "2024-09-16T16:10:23.072271Z"
    },
    "papermill": {
     "duration": 0.074372,
     "end_time": "2024-09-16T16:10:23.075262",
     "exception": false,
     "start_time": "2024-09-16T16:10:23.000890",
     "status": "completed"
    },
    "tags": []
   },
   "outputs": [
    {
     "data": {
      "text/plain": [
       "Index(['step', 'type', 'amount', 'oldbalanceOrg', 'newbalanceDest', 'isFraud',\n",
       "       'isFlaggedFraud'],\n",
       "      dtype='object')"
      ]
     },
     "execution_count": 22,
     "metadata": {},
     "output_type": "execute_result"
    }
   ],
   "source": [
    "df.columns"
   ]
  },
  {
   "cell_type": "code",
   "execution_count": 23,
   "id": "e9d6d141",
   "metadata": {
    "execution": {
     "iopub.execute_input": "2024-09-16T16:10:23.111412Z",
     "iopub.status.busy": "2024-09-16T16:10:23.110995Z",
     "iopub.status.idle": "2024-09-16T16:10:23.121301Z",
     "shell.execute_reply": "2024-09-16T16:10:23.120392Z"
    },
    "papermill": {
     "duration": 0.031111,
     "end_time": "2024-09-16T16:10:23.123462",
     "exception": false,
     "start_time": "2024-09-16T16:10:23.092351",
     "status": "completed"
    },
    "tags": []
   },
   "outputs": [
    {
     "name": "stdout",
     "output_type": "stream",
     "text": [
      "<class 'pandas.core.frame.DataFrame'>\n",
      "RangeIndex: 6362620 entries, 0 to 6362619\n",
      "Data columns (total 7 columns):\n",
      " #   Column          Dtype  \n",
      "---  ------          -----  \n",
      " 0   step            int64  \n",
      " 1   type            int64  \n",
      " 2   amount          float64\n",
      " 3   oldbalanceOrg   float64\n",
      " 4   newbalanceDest  float64\n",
      " 5   isFraud         int64  \n",
      " 6   isFlaggedFraud  int64  \n",
      "dtypes: float64(3), int64(4)\n",
      "memory usage: 339.8 MB\n"
     ]
    }
   ],
   "source": [
    "df.info()"
   ]
  },
  {
   "cell_type": "markdown",
   "id": "c4f88564",
   "metadata": {
    "papermill": {
     "duration": 0.016371,
     "end_time": "2024-09-16T16:10:23.156852",
     "exception": false,
     "start_time": "2024-09-16T16:10:23.140481",
     "status": "completed"
    },
    "tags": []
   },
   "source": [
    "# * **Verileri Test ve Eğitim Kümelerine Bölmek**"
   ]
  },
  {
   "cell_type": "code",
   "execution_count": 24,
   "id": "258615e1",
   "metadata": {
    "execution": {
     "iopub.execute_input": "2024-09-16T16:10:23.192423Z",
     "iopub.status.busy": "2024-09-16T16:10:23.191990Z",
     "iopub.status.idle": "2024-09-16T16:10:23.307367Z",
     "shell.execute_reply": "2024-09-16T16:10:23.306204Z"
    },
    "papermill": {
     "duration": 0.136308,
     "end_time": "2024-09-16T16:10:23.309790",
     "exception": false,
     "start_time": "2024-09-16T16:10:23.173482",
     "status": "completed"
    },
    "tags": []
   },
   "outputs": [
    {
     "name": "stdout",
     "output_type": "stream",
     "text": [
      "X shape is :  (6362620, 6)\n",
      "\n",
      "Y shape is :  (6362620,)\n"
     ]
    }
   ],
   "source": [
    "# X Data\n",
    "x = df.drop(['isFraud'], axis=1)\n",
    "print('X shape is : ' , x.shape)\n",
    "print()\n",
    "\n",
    "# y Data\n",
    "y = df['isFraud']\n",
    "print('Y shape is : ' , y.shape)"
   ]
  },
  {
   "cell_type": "code",
   "execution_count": 25,
   "id": "cb094a74",
   "metadata": {
    "execution": {
     "iopub.execute_input": "2024-09-16T16:10:23.346175Z",
     "iopub.status.busy": "2024-09-16T16:10:23.345775Z",
     "iopub.status.idle": "2024-09-16T16:10:23.360330Z",
     "shell.execute_reply": "2024-09-16T16:10:23.359180Z"
    },
    "papermill": {
     "duration": 0.035073,
     "end_time": "2024-09-16T16:10:23.362327",
     "exception": false,
     "start_time": "2024-09-16T16:10:23.327254",
     "status": "completed"
    },
    "tags": []
   },
   "outputs": [
    {
     "data": {
      "text/html": [
       "<div>\n",
       "<style scoped>\n",
       "    .dataframe tbody tr th:only-of-type {\n",
       "        vertical-align: middle;\n",
       "    }\n",
       "\n",
       "    .dataframe tbody tr th {\n",
       "        vertical-align: top;\n",
       "    }\n",
       "\n",
       "    .dataframe thead th {\n",
       "        text-align: right;\n",
       "    }\n",
       "</style>\n",
       "<table border=\"1\" class=\"dataframe\">\n",
       "  <thead>\n",
       "    <tr style=\"text-align: right;\">\n",
       "      <th></th>\n",
       "      <th>step</th>\n",
       "      <th>type</th>\n",
       "      <th>amount</th>\n",
       "      <th>oldbalanceOrg</th>\n",
       "      <th>newbalanceDest</th>\n",
       "      <th>isFlaggedFraud</th>\n",
       "    </tr>\n",
       "  </thead>\n",
       "  <tbody>\n",
       "    <tr>\n",
       "      <th>0</th>\n",
       "      <td>1</td>\n",
       "      <td>1</td>\n",
       "      <td>9839.64</td>\n",
       "      <td>170136.00</td>\n",
       "      <td>0.00</td>\n",
       "      <td>0</td>\n",
       "    </tr>\n",
       "    <tr>\n",
       "      <th>1</th>\n",
       "      <td>1</td>\n",
       "      <td>1</td>\n",
       "      <td>1864.28</td>\n",
       "      <td>21249.00</td>\n",
       "      <td>0.00</td>\n",
       "      <td>0</td>\n",
       "    </tr>\n",
       "    <tr>\n",
       "      <th>2</th>\n",
       "      <td>1</td>\n",
       "      <td>3</td>\n",
       "      <td>181.00</td>\n",
       "      <td>181.00</td>\n",
       "      <td>0.00</td>\n",
       "      <td>0</td>\n",
       "    </tr>\n",
       "    <tr>\n",
       "      <th>3</th>\n",
       "      <td>1</td>\n",
       "      <td>0</td>\n",
       "      <td>181.00</td>\n",
       "      <td>181.00</td>\n",
       "      <td>0.00</td>\n",
       "      <td>0</td>\n",
       "    </tr>\n",
       "    <tr>\n",
       "      <th>4</th>\n",
       "      <td>1</td>\n",
       "      <td>1</td>\n",
       "      <td>11668.14</td>\n",
       "      <td>41554.00</td>\n",
       "      <td>0.00</td>\n",
       "      <td>0</td>\n",
       "    </tr>\n",
       "    <tr>\n",
       "      <th>...</th>\n",
       "      <td>...</td>\n",
       "      <td>...</td>\n",
       "      <td>...</td>\n",
       "      <td>...</td>\n",
       "      <td>...</td>\n",
       "      <td>...</td>\n",
       "    </tr>\n",
       "    <tr>\n",
       "      <th>6362615</th>\n",
       "      <td>743</td>\n",
       "      <td>0</td>\n",
       "      <td>339682.13</td>\n",
       "      <td>339682.13</td>\n",
       "      <td>339682.13</td>\n",
       "      <td>0</td>\n",
       "    </tr>\n",
       "    <tr>\n",
       "      <th>6362616</th>\n",
       "      <td>743</td>\n",
       "      <td>3</td>\n",
       "      <td>6311409.28</td>\n",
       "      <td>6311409.28</td>\n",
       "      <td>0.00</td>\n",
       "      <td>0</td>\n",
       "    </tr>\n",
       "    <tr>\n",
       "      <th>6362617</th>\n",
       "      <td>743</td>\n",
       "      <td>0</td>\n",
       "      <td>6311409.28</td>\n",
       "      <td>6311409.28</td>\n",
       "      <td>6379898.11</td>\n",
       "      <td>0</td>\n",
       "    </tr>\n",
       "    <tr>\n",
       "      <th>6362618</th>\n",
       "      <td>743</td>\n",
       "      <td>3</td>\n",
       "      <td>850002.52</td>\n",
       "      <td>850002.52</td>\n",
       "      <td>0.00</td>\n",
       "      <td>0</td>\n",
       "    </tr>\n",
       "    <tr>\n",
       "      <th>6362619</th>\n",
       "      <td>743</td>\n",
       "      <td>0</td>\n",
       "      <td>850002.52</td>\n",
       "      <td>850002.52</td>\n",
       "      <td>7360101.63</td>\n",
       "      <td>0</td>\n",
       "    </tr>\n",
       "  </tbody>\n",
       "</table>\n",
       "<p>6362620 rows × 6 columns</p>\n",
       "</div>"
      ],
      "text/plain": [
       "         step  type      amount  oldbalanceOrg  newbalanceDest  isFlaggedFraud\n",
       "0           1     1     9839.64      170136.00            0.00               0\n",
       "1           1     1     1864.28       21249.00            0.00               0\n",
       "2           1     3      181.00         181.00            0.00               0\n",
       "3           1     0      181.00         181.00            0.00               0\n",
       "4           1     1    11668.14       41554.00            0.00               0\n",
       "...       ...   ...         ...            ...             ...             ...\n",
       "6362615   743     0   339682.13      339682.13       339682.13               0\n",
       "6362616   743     3  6311409.28     6311409.28            0.00               0\n",
       "6362617   743     0  6311409.28     6311409.28      6379898.11               0\n",
       "6362618   743     3   850002.52      850002.52            0.00               0\n",
       "6362619   743     0   850002.52      850002.52      7360101.63               0\n",
       "\n",
       "[6362620 rows x 6 columns]"
      ]
     },
     "execution_count": 25,
     "metadata": {},
     "output_type": "execute_result"
    }
   ],
   "source": [
    "x"
   ]
  },
  {
   "cell_type": "code",
   "execution_count": 26,
   "id": "be5a88d6",
   "metadata": {
    "execution": {
     "iopub.execute_input": "2024-09-16T16:10:23.398475Z",
     "iopub.status.busy": "2024-09-16T16:10:23.397876Z",
     "iopub.status.idle": "2024-09-16T16:10:23.405397Z",
     "shell.execute_reply": "2024-09-16T16:10:23.404369Z"
    },
    "papermill": {
     "duration": 0.028071,
     "end_time": "2024-09-16T16:10:23.407590",
     "exception": false,
     "start_time": "2024-09-16T16:10:23.379519",
     "status": "completed"
    },
    "tags": []
   },
   "outputs": [
    {
     "data": {
      "text/plain": [
       "0          0\n",
       "1          0\n",
       "2          1\n",
       "3          1\n",
       "4          0\n",
       "          ..\n",
       "6362615    1\n",
       "6362616    1\n",
       "6362617    1\n",
       "6362618    1\n",
       "6362619    1\n",
       "Name: isFraud, Length: 6362620, dtype: int64"
      ]
     },
     "execution_count": 26,
     "metadata": {},
     "output_type": "execute_result"
    }
   ],
   "source": [
    "y"
   ]
  },
  {
   "cell_type": "markdown",
   "id": "7a906e12",
   "metadata": {
    "papermill": {
     "duration": 0.017352,
     "end_time": "2024-09-16T16:10:23.442516",
     "exception": false,
     "start_time": "2024-09-16T16:10:23.425164",
     "status": "completed"
    },
    "tags": []
   },
   "source": [
    "X ve y değişkenlerimizi görüntülüyoruz."
   ]
  },
  {
   "cell_type": "code",
   "execution_count": 27,
   "id": "3d18e5e0",
   "metadata": {
    "execution": {
     "iopub.execute_input": "2024-09-16T16:10:23.479365Z",
     "iopub.status.busy": "2024-09-16T16:10:23.478587Z",
     "iopub.status.idle": "2024-09-16T16:10:24.436188Z",
     "shell.execute_reply": "2024-09-16T16:10:24.435282Z"
    },
    "papermill": {
     "duration": 0.979044,
     "end_time": "2024-09-16T16:10:24.438925",
     "exception": false,
     "start_time": "2024-09-16T16:10:23.459881",
     "status": "completed"
    },
    "tags": []
   },
   "outputs": [
    {
     "name": "stdout",
     "output_type": "stream",
     "text": [
      "X_train shape is  (4453834, 6)\n",
      "X_test shape is  (1908786, 6)\n",
      "y_train shape is  (4453834,)\n",
      "y_test shape is  (1908786,)\n"
     ]
    }
   ],
   "source": [
    "X_train, X_test, y_train, y_test = train_test_split(x, y, test_size=0.3, random_state=42, shuffle=True)\n",
    "\n",
    "# Splitted Data\n",
    "print('X_train shape is ' , X_train.shape)\n",
    "print('X_test shape is ' , X_test.shape)\n",
    "print('y_train shape is ' , y_train.shape)\n",
    "print('y_test shape is ' , y_test.shape)"
   ]
  },
  {
   "cell_type": "markdown",
   "id": "6e47a179",
   "metadata": {
    "papermill": {
     "duration": 0.017104,
     "end_time": "2024-09-16T16:10:24.479308",
     "exception": false,
     "start_time": "2024-09-16T16:10:24.462204",
     "status": "completed"
    },
    "tags": []
   },
   "source": [
    "Verimizi %70 eğitim, %30 test olacak şekilde setlere böldük."
   ]
  },
  {
   "cell_type": "markdown",
   "id": "76dde448",
   "metadata": {
    "papermill": {
     "duration": 0.016934,
     "end_time": "2024-09-16T16:10:24.513416",
     "exception": false,
     "start_time": "2024-09-16T16:10:24.496482",
     "status": "completed"
    },
    "tags": []
   },
   "source": [
    "*ML kısmı için verileri daha uygun hale getirme işlemi*"
   ]
  },
  {
   "cell_type": "code",
   "execution_count": 28,
   "id": "f6845f77",
   "metadata": {
    "execution": {
     "iopub.execute_input": "2024-09-16T16:10:24.549532Z",
     "iopub.status.busy": "2024-09-16T16:10:24.548990Z",
     "iopub.status.idle": "2024-09-16T16:10:25.154218Z",
     "shell.execute_reply": "2024-09-16T16:10:25.152921Z"
    },
    "papermill": {
     "duration": 0.626879,
     "end_time": "2024-09-16T16:10:25.157398",
     "exception": false,
     "start_time": "2024-09-16T16:10:24.530519",
     "status": "completed"
    },
    "tags": []
   },
   "outputs": [],
   "source": [
    "# Standartizasyon (Z-Puanına Göre Normalizasyon) \n",
    "# Veri İçin StandardScaler\n",
    "\n",
    "scaler = StandardScaler()\n",
    "\n",
    "# Eğitim verisinin standartizasyonunu hesapla\n",
    "scaler.fit(X_train)\n",
    "\n",
    "# Standartize edilmiş eğitim ve test verilerini sakla\n",
    "X_train_scaled = scaler.transform(X_train)\n",
    "X_test_scaled = scaler.transform(X_test)"
   ]
  },
  {
   "cell_type": "markdown",
   "id": "ad448b93",
   "metadata": {
    "papermill": {
     "duration": 0.017456,
     "end_time": "2024-09-16T16:10:25.198615",
     "exception": false,
     "start_time": "2024-09-16T16:10:25.181159",
     "status": "completed"
    },
    "tags": []
   },
   "source": [
    "# 1. GaussianNB Modeli"
   ]
  },
  {
   "cell_type": "code",
   "execution_count": 29,
   "id": "ca9860cc",
   "metadata": {
    "execution": {
     "iopub.execute_input": "2024-09-16T16:10:25.235842Z",
     "iopub.status.busy": "2024-09-16T16:10:25.234903Z",
     "iopub.status.idle": "2024-09-16T16:10:26.435793Z",
     "shell.execute_reply": "2024-09-16T16:10:26.434673Z"
    },
    "papermill": {
     "duration": 1.222178,
     "end_time": "2024-09-16T16:10:26.438276",
     "exception": false,
     "start_time": "2024-09-16T16:10:25.216098",
     "status": "completed"
    },
    "tags": []
   },
   "outputs": [],
   "source": [
    "# GaussianNB Modeli\n",
    "gnb = GaussianNB()\n",
    "gnb_tuned = gnb.fit(X_train_scaled, y_train)\n",
    "y_pred_gnb = gnb_tuned.predict(X_test_scaled)"
   ]
  },
  {
   "cell_type": "markdown",
   "id": "7366b1ec",
   "metadata": {
    "papermill": {
     "duration": 0.017584,
     "end_time": "2024-09-16T16:10:26.473866",
     "exception": false,
     "start_time": "2024-09-16T16:10:26.456282",
     "status": "completed"
    },
    "tags": []
   },
   "source": [
    "Gaussian Naive Bayes modelimizi kurup, eğitim verilerimizle modelimizi eğitiyoruz. Eğitilmiş modelle test verisi üzerinde tahminler yaptırıyoruz. Bu işlemler sonucunda, test verisi için modelin tahmin ettiği sınıflar y_pred_gnb değişkeninde saklanır. Gaussian Naive Bayes modelinin temel avantajı, hızlı ve basit bir şekilde uygulanabilmesi ve küçük veri kümelerinde veya yüksek boyutlu veri kümelerinde genellikle iyi performans göstermesidir."
   ]
  },
  {
   "cell_type": "markdown",
   "id": "ac83379c",
   "metadata": {
    "papermill": {
     "duration": 0.017386,
     "end_time": "2024-09-16T16:10:26.508963",
     "exception": false,
     "start_time": "2024-09-16T16:10:26.491577",
     "status": "completed"
    },
    "tags": []
   },
   "source": [
    "# 2. DecisionTree Modeli (criterion='gini')"
   ]
  },
  {
   "cell_type": "code",
   "execution_count": 30,
   "id": "d0b2ac26",
   "metadata": {
    "execution": {
     "iopub.execute_input": "2024-09-16T16:10:26.545685Z",
     "iopub.status.busy": "2024-09-16T16:10:26.545292Z",
     "iopub.status.idle": "2024-09-16T16:11:10.243753Z",
     "shell.execute_reply": "2024-09-16T16:11:10.242705Z"
    },
    "papermill": {
     "duration": 43.720034,
     "end_time": "2024-09-16T16:11:10.246515",
     "exception": false,
     "start_time": "2024-09-16T16:10:26.526481",
     "status": "completed"
    },
    "tags": []
   },
   "outputs": [],
   "source": [
    "# DecisionTree Modeli (criterion='gini')\n",
    "dt_gini = DecisionTreeClassifier(criterion='gini')\n",
    "dt_gini_tuned = dt_gini.fit(X_train_scaled, y_train)\n",
    "y_pred_dt_gini = dt_gini_tuned.predict(X_test_scaled)"
   ]
  },
  {
   "cell_type": "markdown",
   "id": "c3ddc6c3",
   "metadata": {
    "papermill": {
     "duration": 0.017531,
     "end_time": "2024-09-16T16:11:10.282100",
     "exception": false,
     "start_time": "2024-09-16T16:11:10.264569",
     "status": "completed"
    },
    "tags": []
   },
   "source": [
    "Karar ağacı modelimizi kurup, eğitim verilerimizle gini kriterine bağlı modelimizi eğitiyoruz. Eğitilmiş modelimizle test verileri üzerinde tahminler yaptırıyoruz.\n",
    "\n",
    "Bu işlemler sonucunda, test verisi için modelin tahmin ettiği sınıflar y_pred_dt_gini değişkeninde saklanır. Karar ağaçları, veri setindeki örüntüleri öğrenmek için dallanmalar ve yapraklar kullanarak çalışan esnek ve sezgisel modellerdir. Gini impurity ve bilgi kazancı (entropy) gibi kriterler kullanılarak, veriyi en iyi şekilde ayıran noktalar bulunur. Karar ağaçlarının temel avantajı, veri üzerinde görsel olarak anlaşılabilir modeller oluşturmaları ve farklı türdeki verilerle kolayca çalışabilmeleridir"
   ]
  },
  {
   "cell_type": "markdown",
   "id": "cd15dda0",
   "metadata": {
    "papermill": {
     "duration": 0.017272,
     "end_time": "2024-09-16T16:11:10.316891",
     "exception": false,
     "start_time": "2024-09-16T16:11:10.299619",
     "status": "completed"
    },
    "tags": []
   },
   "source": [
    "# 3. DecisionTree Modeli (criterion='entropy')"
   ]
  },
  {
   "cell_type": "code",
   "execution_count": 31,
   "id": "75998147",
   "metadata": {
    "execution": {
     "iopub.execute_input": "2024-09-16T16:11:10.353747Z",
     "iopub.status.busy": "2024-09-16T16:11:10.353349Z",
     "iopub.status.idle": "2024-09-16T16:11:35.021930Z",
     "shell.execute_reply": "2024-09-16T16:11:35.020703Z"
    },
    "papermill": {
     "duration": 24.690217,
     "end_time": "2024-09-16T16:11:35.024555",
     "exception": false,
     "start_time": "2024-09-16T16:11:10.334338",
     "status": "completed"
    },
    "tags": []
   },
   "outputs": [],
   "source": [
    "# DecisionTree Modeli (criterion='entropy')\n",
    "dt_entropy = DecisionTreeClassifier(criterion='entropy')\n",
    "dt_entropy_tuned = dt_entropy.fit(X_train_scaled, y_train)\n",
    "y_pred_dt_entropy = dt_entropy_tuned.predict(X_test_scaled)"
   ]
  },
  {
   "cell_type": "markdown",
   "id": "c43dd37e",
   "metadata": {
    "papermill": {
     "duration": 0.017451,
     "end_time": "2024-09-16T16:11:35.060048",
     "exception": false,
     "start_time": "2024-09-16T16:11:35.042597",
     "status": "completed"
    },
    "tags": []
   },
   "source": [
    "Karar ağacı modelimizi kurup, eğitim verilerimizle entropy kriterine bağlı modelimizi eğitiyoruz. Eğitilmiş modelimizle test verileri üzerinde tahminler yaptırıyoruz.\n",
    "\n",
    "Bu işlemler sonucunda, test verisi için modelin tahmin ettiği sınıflar y_pred_dt_entropy değişkeninde saklanır. Entropy kriteri, bilgi teorisine dayanır ve veri setindeki belirsizliği ölçer. Entropy, bir düğümdeki bilgi miktarını ölçer ve düğümdeki örneklerin saflığını artırmak için çalışır. Entropy değeri ne kadar düşükse, düğümdeki belirsizlik o kadar azdır. Karar ağacı, veri setini bölmek için bilgi kazancını maksimum yapacak şekilde dallanmalar oluşturur."
   ]
  },
  {
   "cell_type": "markdown",
   "id": "2eb524ae",
   "metadata": {
    "papermill": {
     "duration": 0.018873,
     "end_time": "2024-09-16T16:11:35.096425",
     "exception": false,
     "start_time": "2024-09-16T16:11:35.077552",
     "status": "completed"
    },
    "tags": []
   },
   "source": [
    "# 4. K-Means Modeli"
   ]
  },
  {
   "cell_type": "code",
   "execution_count": 32,
   "id": "c811e7c1",
   "metadata": {
    "execution": {
     "iopub.execute_input": "2024-09-16T16:11:35.132844Z",
     "iopub.status.busy": "2024-09-16T16:11:35.132418Z",
     "iopub.status.idle": "2024-09-16T16:11:44.513747Z",
     "shell.execute_reply": "2024-09-16T16:11:44.512731Z"
    },
    "papermill": {
     "duration": 9.402579,
     "end_time": "2024-09-16T16:11:44.516282",
     "exception": false,
     "start_time": "2024-09-16T16:11:35.113703",
     "status": "completed"
    },
    "tags": []
   },
   "outputs": [],
   "source": [
    "# K-Means modelini oluştur ve eğit (n_clusters: sınıf sayısına eşit olacak şekilde belirlenir)\n",
    "kmeans = KMeans(n_clusters=len(np.unique(y_train)), random_state=42, n_init=10)\n",
    "kmeans.fit(X_train_scaled)\n",
    "y_pred_k = kmeans.predict(X_test_scaled)"
   ]
  },
  {
   "cell_type": "markdown",
   "id": "985778ad",
   "metadata": {
    "papermill": {
     "duration": 0.017143,
     "end_time": "2024-09-16T16:11:44.551673",
     "exception": false,
     "start_time": "2024-09-16T16:11:44.534530",
     "status": "completed"
    },
    "tags": []
   },
   "source": [
    "K-Means, veriyi kümelere ayırmak için iteratif bir süreç kullanır. Rastgele merkezlerle başlar, veri noktalarını bu merkezlere atar ve ardından her kümenin merkezini günceller. Bu adımlar, kümeler istikrar kazanana kadar tekrar eder. Bu şekilde K-Means, verileri anlamlı gruplara ayırarak, benzerliklere dayalı analizlerin yapılmasını sağlar."
   ]
  },
  {
   "cell_type": "code",
   "execution_count": 33,
   "id": "6040c46f",
   "metadata": {
    "execution": {
     "iopub.execute_input": "2024-09-16T16:11:44.588192Z",
     "iopub.status.busy": "2024-09-16T16:11:44.587783Z",
     "iopub.status.idle": "2024-09-16T16:11:44.723015Z",
     "shell.execute_reply": "2024-09-16T16:11:44.722027Z"
    },
    "papermill": {
     "duration": 0.156453,
     "end_time": "2024-09-16T16:11:44.725527",
     "exception": false,
     "start_time": "2024-09-16T16:11:44.569074",
     "status": "completed"
    },
    "tags": []
   },
   "outputs": [],
   "source": [
    "# Tahmin edilen kümeler ile gerçek etiketleri kıyasla\n",
    "# Tahmin edilen kümeler ile gerçek sınıflar doğrudan karşılaştırılamayacağı için, kümeleri gerçek etiketlerle uyumlu hale getirebiliriz.\n",
    "# Bunun için en uygun eşleşmeleri bulmak için bir yöntem kullanacağız.\n",
    "# Kümeleri sınıf etiketlerine eşle\n",
    "y_pred_kmean = np.zeros_like(y_pred_k)\n",
    "for i in range(len(np.unique(kmeans.labels_))):\n",
    "    mask = (y_pred_k == i)\n",
    "    y_pred_kmean[mask] = mode(y_test[mask])[0]"
   ]
  },
  {
   "cell_type": "markdown",
   "id": "4ac83e45",
   "metadata": {
    "papermill": {
     "duration": 0.017469,
     "end_time": "2024-09-16T16:11:44.760958",
     "exception": false,
     "start_time": "2024-09-16T16:11:44.743489",
     "status": "completed"
    },
    "tags": []
   },
   "source": [
    "# Eğitilmiş Modellerin Tahminlerinin Test Verilerine Göre Karşılaştırılması-Sonuçları"
   ]
  },
  {
   "cell_type": "code",
   "execution_count": 34,
   "id": "daa44f51",
   "metadata": {
    "execution": {
     "iopub.execute_input": "2024-09-16T16:11:44.797639Z",
     "iopub.status.busy": "2024-09-16T16:11:44.797244Z",
     "iopub.status.idle": "2024-09-16T16:11:44.802252Z",
     "shell.execute_reply": "2024-09-16T16:11:44.801251Z"
    },
    "papermill": {
     "duration": 0.025896,
     "end_time": "2024-09-16T16:11:44.804338",
     "exception": false,
     "start_time": "2024-09-16T16:11:44.778442",
     "status": "completed"
    },
    "tags": []
   },
   "outputs": [],
   "source": [
    "models = {\n",
    "    'DecisionTree (Gini)': y_pred_dt_gini,\n",
    "    'DecisionTree (Entropy)': y_pred_dt_entropy,\n",
    "    'GaussianNB': y_pred_gnb,\n",
    "    'K-Means': y_pred_kmean\n",
    "}"
   ]
  },
  {
   "cell_type": "code",
   "execution_count": 35,
   "id": "c86a7a1b",
   "metadata": {
    "execution": {
     "iopub.execute_input": "2024-09-16T16:11:44.841936Z",
     "iopub.status.busy": "2024-09-16T16:11:44.841262Z",
     "iopub.status.idle": "2024-09-16T16:12:07.148837Z",
     "shell.execute_reply": "2024-09-16T16:12:07.147507Z"
    },
    "papermill": {
     "duration": 22.329152,
     "end_time": "2024-09-16T16:12:07.151314",
     "exception": false,
     "start_time": "2024-09-16T16:11:44.822162",
     "status": "completed"
    },
    "tags": []
   },
   "outputs": [
    {
     "name": "stdout",
     "output_type": "stream",
     "text": [
      "Model: DecisionTree (Gini)\n",
      "Doğruluk Skoru: 0.9994865846669034\n",
      "Karmaşıklık Matrisi:\n",
      " [[1905858     493]\n",
      " [    487    1948]]\n",
      "Sınıflandırma Raporu:\n",
      "               precision    recall  f1-score   support\n",
      "\n",
      "           0       1.00      1.00      1.00   1906351\n",
      "           1       0.80      0.80      0.80      2435\n",
      "\n",
      "    accuracy                           1.00   1908786\n",
      "   macro avg       0.90      0.90      0.90   1908786\n",
      "weighted avg       1.00      1.00      1.00   1908786\n",
      "\n",
      "Precision Score: 0.9994872187168531\n",
      "Recall Score: 0.9994865846669034\n",
      "F1 Score: 0.999486900146026\n",
      "\n",
      "\n",
      "Model: DecisionTree (Entropy)\n",
      "Doğruluk Skoru: 0.9995101598607702\n",
      "Karmaşıklık Matrisi:\n",
      " [[1905887     464]\n",
      " [    471    1964]]\n",
      "Sınıflandırma Raporu:\n",
      "               precision    recall  f1-score   support\n",
      "\n",
      "           0       1.00      1.00      1.00   1906351\n",
      "           1       0.81      0.81      0.81      2435\n",
      "\n",
      "    accuracy                           1.00   1908786\n",
      "   macro avg       0.90      0.90      0.90   1908786\n",
      "weighted avg       1.00      1.00      1.00   1908786\n",
      "\n",
      "Precision Score: 0.9995094599410054\n",
      "Recall Score: 0.9995101598607702\n",
      "F1 Score: 0.9995098077625245\n",
      "\n",
      "\n",
      "Model: GaussianNB\n",
      "Doğruluk Skoru: 0.9961189991963478\n",
      "Karmaşıklık Matrisi:\n",
      " [[1901125    5226]\n",
      " [   2182     253]]\n",
      "Sınıflandırma Raporu:\n",
      "               precision    recall  f1-score   support\n",
      "\n",
      "           0       1.00      1.00      1.00   1906351\n",
      "           1       0.05      0.10      0.06      2435\n",
      "\n",
      "    accuracy                           1.00   1908786\n",
      "   macro avg       0.52      0.55      0.53   1908786\n",
      "weighted avg       1.00      1.00      1.00   1908786\n",
      "\n",
      "Precision Score: 0.9976382630603998\n",
      "Recall Score: 0.9961189991963478\n",
      "F1 Score: 0.9968638327253488\n",
      "\n",
      "\n",
      "Model: K-Means\n",
      "Doğruluk Skoru: 0.9987279873175935\n",
      "Karmaşıklık Matrisi:\n",
      " [[1906351       0]\n",
      " [   2428       7]]\n",
      "Sınıflandırma Raporu:\n",
      "               precision    recall  f1-score   support\n",
      "\n",
      "           0       1.00      1.00      1.00   1906351\n",
      "           1       1.00      0.00      0.01      2435\n",
      "\n",
      "    accuracy                           1.00   1908786\n",
      "   macro avg       1.00      0.50      0.50   1908786\n",
      "weighted avg       1.00      1.00      1.00   1908786\n",
      "\n",
      "Precision Score: 0.9987296053397914\n",
      "Recall Score: 0.9987279873175935\n",
      "F1 Score: 0.9980960319673728\n",
      "\n",
      "\n"
     ]
    }
   ],
   "source": [
    "for name, y_pred in models.items():\n",
    "    print(f\"Model: {name}\")\n",
    "    print(\"Doğruluk Skoru:\", accuracy_score(y_test, y_pred))\n",
    "    print(\"Karmaşıklık Matrisi:\\n\", confusion_matrix(y_test, y_pred))\n",
    "    print(\"Sınıflandırma Raporu:\\n\", classification_report(y_test, y_pred))\n",
    "    print(\"Precision Score:\", precision_score(y_test, y_pred, average='weighted'))\n",
    "    print(\"Recall Score:\", recall_score(y_test, y_pred, average='weighted'))\n",
    "    print(\"F1 Score:\", f1_score(y_test, y_pred, average='weighted'))\n",
    "    print(\"\\n\")"
   ]
  },
  {
   "cell_type": "markdown",
   "id": "298fd76b",
   "metadata": {
    "papermill": {
     "duration": 0.01881,
     "end_time": "2024-09-16T16:12:07.189344",
     "exception": false,
     "start_time": "2024-09-16T16:12:07.170534",
     "status": "completed"
    },
    "tags": []
   },
   "source": [
    "Farklı makine öğrenimi modellerinin performanslarını değerlendirmek ve karşılaştırmak için çeşitli metrikler kullandık. Bu metrikler arasında doğruluk skoru, karmaşıklık matrisi, sınıflandırma raporu, precision, recall ve F1 skoru bulunur. Kod, her modelin test verisi üzerindeki tahminlerini değerlendirir ve sonuçları ekrana yazdırır. Bu sayede hangi modelin daha iyi performans verdiğini kolayca görebiliriz."
   ]
  }
 ],
 "metadata": {
  "kaggle": {
   "accelerator": "none",
   "dataSources": [
    {
     "datasetId": 2093649,
     "sourceId": 3478314,
     "sourceType": "datasetVersion"
    }
   ],
   "dockerImageVersionId": 30761,
   "isGpuEnabled": false,
   "isInternetEnabled": true,
   "language": "python",
   "sourceType": "notebook"
  },
  "kernelspec": {
   "display_name": "Python 3",
   "language": "python",
   "name": "python3"
  },
  "language_info": {
   "codemirror_mode": {
    "name": "ipython",
    "version": 3
   },
   "file_extension": ".py",
   "mimetype": "text/x-python",
   "name": "python",
   "nbconvert_exporter": "python",
   "pygments_lexer": "ipython3",
   "version": "3.10.14"
  },
  "papermill": {
   "default_parameters": {},
   "duration": 157.501065,
   "end_time": "2024-09-16T16:12:08.030784",
   "environment_variables": {},
   "exception": null,
   "input_path": "__notebook__.ipynb",
   "output_path": "__notebook__.ipynb",
   "parameters": {},
   "start_time": "2024-09-16T16:09:30.529719",
   "version": "2.6.0"
  }
 },
 "nbformat": 4,
 "nbformat_minor": 5
}
